{
 "cells": [
  {
   "cell_type": "code",
   "execution_count": 1,
   "metadata": {
    "collapsed": false
   },
   "outputs": [],
   "source": [
    "%matplotlib inline\n",
    "from pycocotools.coco import COCO\n",
    "from pycocoevalcap.eval import COCOEvalCap\n",
    "import matplotlib.pyplot as plt\n",
    "import skimage.io as io\n",
    "import pylab\n",
    "pylab.rcParams['figure.figsize'] = (10.0, 8.0)\n",
    "\n",
    "import json\n",
    "from json import encoder\n",
    "encoder.FLOAT_REPR = lambda o: format(o, '.3f')"
   ]
  },
  {
   "cell_type": "code",
   "execution_count": 2,
   "metadata": {
    "collapsed": false
   },
   "outputs": [],
   "source": [
    "# set up file names and paths\n",
    "dataDir='.'\n",
    "dataType='valid2014'\n",
    "annFile='%s/annotations/captions_%s.json'%(dataDir,dataType)\n",
    "\n",
    "\n",
    "algName = 'valid'\n",
    "subtypes=['results', 'evalImgs', 'eval']\n",
    "[resFile, evalImgsFile, evalFile]= \\\n",
    "['%s/results/captions_%s_%s_%s.json'%(dataDir,dataType,algName,subtype) for subtype in subtypes]\n",
    "\n",
    "algName = 'human'\n",
    "subtypes=['results', 'evalImgs', 'eval']\n",
    "[humanResFile, humanEvalImgsFile, humanEvalFile]= \\\n",
    "['%s/results/captions_%s_%s_%s.json'%(dataDir,dataType,algName,subtype) for subtype in subtypes]"
   ]
  },
  {
   "cell_type": "code",
   "execution_count": 3,
   "metadata": {
    "collapsed": false
   },
   "outputs": [
    {
     "name": "stdout",
     "output_type": "stream",
     "text": [
      "loading annotations into memory...\n",
      "0:00:01.209693\n",
      "creating index...\n",
      "index created!\n",
      "Loading and preparing results...     \n",
      "DONE (t=0.21s)\n",
      "creating index...\n",
      "index created!\n"
     ]
    }
   ],
   "source": [
    "# create coco object and cocoRes object\n",
    "coco = COCO(annFile)\n",
    "cocoRes = coco.loadRes(resFile)"
   ]
  },
  {
   "cell_type": "code",
   "execution_count": 4,
   "metadata": {
    "collapsed": false
   },
   "outputs": [
    {
     "name": "stdout",
     "output_type": "stream",
     "text": [
      "tokenization...\n",
      "setting up scorers...\n",
      "computing Bleu score...\n",
      "{'reflen': 363437, 'guess': [197940, 157436, 137193, 116951], 'testlen': 197940, 'correct': [122301, 57602, 25374, 11439]}\n",
      "ratio: 0.544633595369\n",
      "Bleu_1: 0.268\n",
      "Bleu_2: 0.206\n",
      "Bleu_3: 0.150\n",
      "Bleu_4: 0.110\n",
      "computing METEOR score...\n",
      "METEOR: 0.119\n",
      "computing Rouge score...\n",
      "ROUGE_L: 0.245\n",
      "computing CIDEr score...\n",
      "CIDEr: 0.500\n"
     ]
    }
   ],
   "source": [
    "# create cocoEval object by taking coco and cocoRes\n",
    "cocoEval = COCOEvalCap(coco, cocoRes)\n",
    "\n",
    "# evaluate on a subset of images by setting\n",
    "# cocoEval.params['image_id'] = cocoRes.getImgIds()\n",
    "# please remove this line when evaluating the full validation set\n",
    "cocoEval.params['image_id'] = cocoRes.getImgIds()\n",
    "\n",
    "# evaluate results\n",
    "cocoEval.evaluate()"
   ]
  },
  {
   "cell_type": "code",
   "execution_count": 5,
   "metadata": {
    "collapsed": false
   },
   "outputs": [
    {
     "name": "stdout",
     "output_type": "stream",
     "text": [
      "loading annotations into memory...\n",
      "0:00:00.910529\n",
      "creating index...\n",
      "index created!\n",
      "Loading and preparing results...     \n",
      "DONE (t=0.31s)\n",
      "creating index...\n",
      "index created!\n"
     ]
    }
   ],
   "source": [
    "# create coco object and cocoRes object\n",
    "coco = COCO(annFile)\n",
    "humanCocoRes = coco.loadRes(humanResFile)"
   ]
  },
  {
   "cell_type": "code",
   "execution_count": 6,
   "metadata": {
    "collapsed": false
   },
   "outputs": [
    {
     "name": "stdout",
     "output_type": "stream",
     "text": [
      "tokenization...\n",
      "setting up scorers...\n",
      "computing Bleu score...\n",
      "{'reflen': 379081, 'guess': [232489, 191985, 171742, 151499], 'testlen': 232489, 'correct': [134650, 58279, 22896, 8719]}\n",
      "ratio: 0.61329636674\n",
      "Bleu_1: 0.308\n",
      "Bleu_2: 0.223\n",
      "Bleu_3: 0.152\n",
      "Bleu_4: 0.102\n",
      "computing METEOR score...\n",
      "METEOR: 0.128\n",
      "computing Rouge score...\n",
      "ROUGE_L: 0.236\n",
      "computing CIDEr score...\n",
      "CIDEr: 0.483\n"
     ]
    }
   ],
   "source": [
    "# create cocoEval object by taking coco and cocoRes\n",
    "humanCocoEval = COCOEvalCap(coco, humanCocoRes)\n",
    "\n",
    "# evaluate on a subset of images by setting\n",
    "# cocoEval.params['image_id'] = cocoRes.getImgIds()\n",
    "# please remove this line when evaluating the full validation set\n",
    "humanCocoEval.params['image_id'] = humanCocoRes.getImgIds()\n",
    "\n",
    "# evaluate results\n",
    "humanCocoEval.evaluate()"
   ]
  },
  {
   "cell_type": "code",
   "execution_count": 7,
   "metadata": {
    "collapsed": false
   },
   "outputs": [
    {
     "name": "stdout",
     "output_type": "stream",
     "text": [
      "CIDEr: 0.472299032194\n",
      "40504\n",
      "METEOR: 0.549229705708\n"
     ]
    }
   ],
   "source": [
    "import numpy as np\n",
    "\n",
    "s = 0\n",
    "for y in humanCocoEval.scores['CIDEr']-cocoEval.scores['CIDEr']>0:\n",
    "    if y ==1:\n",
    "        s+=1\n",
    "print \"{0}: {1}\".format('CIDEr', s/(0.5*len(humanCocoEval.scores['CIDEr'])))\n",
    "print len(humanCocoEval.scores['CIDEr'])\n",
    "\n",
    "s = 0\n",
    "for y in np.array(humanCocoEval.scores['METEOR'])-np.array(cocoEval.scores['METEOR'])>0:\n",
    "    if y ==1:\n",
    "        s+=1\n",
    "print \"{0}: {1}\".format('METEOR', s/(0.5*len(humanCocoEval.scores['METEOR'])))"
   ]
  },
  {
   "cell_type": "code",
   "execution_count": null,
   "metadata": {
    "collapsed": true
   },
   "outputs": [],
   "source": []
  }
 ],
 "metadata": {
  "kernelspec": {
   "display_name": "Python 2",
   "language": "python",
   "name": "python2"
  },
  "language_info": {
   "codemirror_mode": {
    "name": "ipython",
    "version": 2
   },
   "file_extension": ".py",
   "mimetype": "text/x-python",
   "name": "python",
   "nbconvert_exporter": "python",
   "pygments_lexer": "ipython2",
   "version": "2.7.9"
  }
 },
 "nbformat": 4,
 "nbformat_minor": 0
}
